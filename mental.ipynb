{
 "cells": [
  {
   "cell_type": "code",
   "execution_count": 1,
   "metadata": {},
   "outputs": [],
   "source": [
    "import nltk\n",
    "import random\n",
    "from sklearn.feature_extraction.text import TfidfVectorizer\n",
    "from sklearn.metrics.pairwise import cosine_similarity\n",
    "import pandas as pd\n",
    "import warnings\n",
    "warnings.filterwarnings('ignore')\n",
    "lemmatizer = nltk.stem.WordNetLemmatizer()"
   ]
  },
  {
   "cell_type": "code",
   "execution_count": 2,
   "metadata": {},
   "outputs": [
    {
     "data": {
      "text/html": [
       "<div>\n",
       "<style scoped>\n",
       "    .dataframe tbody tr th:only-of-type {\n",
       "        vertical-align: middle;\n",
       "    }\n",
       "\n",
       "    .dataframe tbody tr th {\n",
       "        vertical-align: top;\n",
       "    }\n",
       "\n",
       "    .dataframe thead th {\n",
       "        text-align: right;\n",
       "    }\n",
       "</style>\n",
       "<table border=\"1\" class=\"dataframe\">\n",
       "  <thead>\n",
       "    <tr style=\"text-align: right;\">\n",
       "      <th></th>\n",
       "      <th>Question_ID</th>\n",
       "      <th>Questions</th>\n",
       "      <th>Answers</th>\n",
       "    </tr>\n",
       "  </thead>\n",
       "  <tbody>\n",
       "    <tr>\n",
       "      <th>0</th>\n",
       "      <td>1590140</td>\n",
       "      <td>What does it mean to have a mental illness?</td>\n",
       "      <td>Mental illnesses are health conditions that di...</td>\n",
       "    </tr>\n",
       "    <tr>\n",
       "      <th>1</th>\n",
       "      <td>2110618</td>\n",
       "      <td>Who does mental illness affect?</td>\n",
       "      <td>It is estimated that mental illness affects 1 ...</td>\n",
       "    </tr>\n",
       "    <tr>\n",
       "      <th>2</th>\n",
       "      <td>6361820</td>\n",
       "      <td>What causes mental illness?</td>\n",
       "      <td>It is estimated that mental illness affects 1 ...</td>\n",
       "    </tr>\n",
       "    <tr>\n",
       "      <th>3</th>\n",
       "      <td>9434130</td>\n",
       "      <td>What are some of the warning signs of mental i...</td>\n",
       "      <td>Symptoms of mental health disorders vary depen...</td>\n",
       "    </tr>\n",
       "    <tr>\n",
       "      <th>4</th>\n",
       "      <td>7657263</td>\n",
       "      <td>Can people with mental illness recover?</td>\n",
       "      <td>When healing from mental illness, early identi...</td>\n",
       "    </tr>\n",
       "  </tbody>\n",
       "</table>\n",
       "</div>"
      ],
      "text/plain": [
       "   Question_ID                                          Questions  \\\n",
       "0      1590140        What does it mean to have a mental illness?   \n",
       "1      2110618                    Who does mental illness affect?   \n",
       "2      6361820                        What causes mental illness?   \n",
       "3      9434130  What are some of the warning signs of mental i...   \n",
       "4      7657263            Can people with mental illness recover?   \n",
       "\n",
       "                                             Answers  \n",
       "0  Mental illnesses are health conditions that di...  \n",
       "1  It is estimated that mental illness affects 1 ...  \n",
       "2  It is estimated that mental illness affects 1 ...  \n",
       "3  Symptoms of mental health disorders vary depen...  \n",
       "4  When healing from mental illness, early identi...  "
      ]
     },
     "execution_count": 2,
     "metadata": {},
     "output_type": "execute_result"
    }
   ],
   "source": [
    "data = pd.read_csv('Mental_Health_FAQ.csv')\n",
    "data.head()"
   ]
  },
  {
   "cell_type": "code",
   "execution_count": 3,
   "metadata": {},
   "outputs": [],
   "source": [
    "data.drop ('Question_ID', axis = 1, inplace = True)"
   ]
  },
  {
   "cell_type": "code",
   "execution_count": 6,
   "metadata": {},
   "outputs": [
    {
     "data": {
      "text/html": [
       "<div>\n",
       "<style scoped>\n",
       "    .dataframe tbody tr th:only-of-type {\n",
       "        vertical-align: middle;\n",
       "    }\n",
       "\n",
       "    .dataframe tbody tr th {\n",
       "        vertical-align: top;\n",
       "    }\n",
       "\n",
       "    .dataframe thead th {\n",
       "        text-align: right;\n",
       "    }\n",
       "</style>\n",
       "<table border=\"1\" class=\"dataframe\">\n",
       "  <thead>\n",
       "    <tr style=\"text-align: right;\">\n",
       "      <th></th>\n",
       "      <th>Questions</th>\n",
       "      <th>Answers</th>\n",
       "      <th>tokenized Questions</th>\n",
       "    </tr>\n",
       "  </thead>\n",
       "  <tbody>\n",
       "    <tr>\n",
       "      <th>0</th>\n",
       "      <td>What does it mean to have a mental illness?</td>\n",
       "      <td>Mental illnesses are health conditions that di...</td>\n",
       "      <td>what doe it mean to have a mental illness</td>\n",
       "    </tr>\n",
       "    <tr>\n",
       "      <th>1</th>\n",
       "      <td>Who does mental illness affect?</td>\n",
       "      <td>It is estimated that mental illness affects 1 ...</td>\n",
       "      <td>who doe mental illness affect</td>\n",
       "    </tr>\n",
       "    <tr>\n",
       "      <th>2</th>\n",
       "      <td>What causes mental illness?</td>\n",
       "      <td>It is estimated that mental illness affects 1 ...</td>\n",
       "      <td>what cause mental illness</td>\n",
       "    </tr>\n",
       "    <tr>\n",
       "      <th>3</th>\n",
       "      <td>What are some of the warning signs of mental i...</td>\n",
       "      <td>Symptoms of mental health disorders vary depen...</td>\n",
       "      <td>what are some of the warning sign of mental il...</td>\n",
       "    </tr>\n",
       "    <tr>\n",
       "      <th>4</th>\n",
       "      <td>Can people with mental illness recover?</td>\n",
       "      <td>When healing from mental illness, early identi...</td>\n",
       "      <td>can people with mental illness recover</td>\n",
       "    </tr>\n",
       "  </tbody>\n",
       "</table>\n",
       "</div>"
      ],
      "text/plain": [
       "                                           Questions  \\\n",
       "0        What does it mean to have a mental illness?   \n",
       "1                    Who does mental illness affect?   \n",
       "2                        What causes mental illness?   \n",
       "3  What are some of the warning signs of mental i...   \n",
       "4            Can people with mental illness recover?   \n",
       "\n",
       "                                             Answers  \\\n",
       "0  Mental illnesses are health conditions that di...   \n",
       "1  It is estimated that mental illness affects 1 ...   \n",
       "2  It is estimated that mental illness affects 1 ...   \n",
       "3  Symptoms of mental health disorders vary depen...   \n",
       "4  When healing from mental illness, early identi...   \n",
       "\n",
       "                                 tokenized Questions  \n",
       "0          what doe it mean to have a mental illness  \n",
       "1                      who doe mental illness affect  \n",
       "2                          what cause mental illness  \n",
       "3  what are some of the warning sign of mental il...  \n",
       "4             can people with mental illness recover  "
      ]
     },
     "execution_count": 6,
     "metadata": {},
     "output_type": "execute_result"
    }
   ],
   "source": [
    "def preprocess_text(text):\n",
    "    sentences = nltk.sent_tokenize(text)\n",
    "    preprocessed_sentences = []\n",
    "    for sentence in sentences:\n",
    "        tokens = [lemmatizer.lemmatize(word.lower()) for word in nltk.word_tokenize(sentence) if word.isalnum()]\n",
    "\n",
    "        preprocessed_sentence = ' '.join(tokens)\n",
    "        preprocessed_sentences.append(preprocessed_sentence)\n",
    "    \n",
    "    return ' '.join(preprocessed_sentences)\n",
    "\n",
    "\n",
    "data['tokenized Questions'] = data['Questions'].apply(preprocess_text)\n",
    "data.head()"
   ]
  },
  {
   "cell_type": "code",
   "execution_count": 7,
   "metadata": {},
   "outputs": [
    {
     "data": {
      "text/plain": [
       "['what doe it mean to have a mental illness',\n",
       " 'who doe mental illness affect',\n",
       " 'what cause mental illness',\n",
       " 'what are some of the warning sign of mental illness',\n",
       " 'can people with mental illness recover',\n",
       " 'what should i do if i know someone who appears to have the symptom of a mental disorder',\n",
       " 'how can i find a mental health professional for myself or my child',\n",
       " 'what treatment option are available',\n",
       " 'if i become involved in treatment what do i need to know',\n",
       " 'what is the difference between mental health professional',\n",
       " 'how can i find a mental health professional right for my child or myself',\n",
       " 'if i become involved in treatment what do i need to know',\n",
       " 'where else can i get help',\n",
       " 'what should i know before starting a new medication',\n",
       " 'if i feel better after taking medication doe this mean i am cured and can stop taking it',\n",
       " 'how can i get help paying for my medication',\n",
       " 'where can i go to find therapy',\n",
       " 'where can i learn about type of mental health treatment',\n",
       " 'what are the different type of mental health professional',\n",
       " 'where can i go to find a support group',\n",
       " 'where can i go to find inpatient care',\n",
       " 'where can i go to find other local service',\n",
       " 'where can i learn more information about clinical trial',\n",
       " 'where can i learn more information about creating a psychiatric advance directive',\n",
       " 'what is mental health',\n",
       " 'what do i do if the support doesn t help',\n",
       " 'can you prevent mental health problem',\n",
       " 'are there cure for mental health problem',\n",
       " 'what cause mental health problem',\n",
       " 'what do i do if i m worried about my mental health',\n",
       " 'how do i know if i m unwell',\n",
       " 'what should i do if i m worried about a friend or relative',\n",
       " 'how do i deal with someone telling me what to do',\n",
       " 'why do i need to keep informed',\n",
       " 'how can i tell if health information is good or bad',\n",
       " 'why do i need a plan',\n",
       " 'how can i maintain social connection what if i feel lonely',\n",
       " 'how can i take care of my physical health',\n",
       " 'how can i use distraction to manage difficult thought or feeling',\n",
       " 'how can i reframe the situation and find more balanced perspective',\n",
       " 'how can i challenge thinking trap',\n",
       " 'how can i manage grief',\n",
       " 'how can i find a doctor psychiatrist psychologist or counsellor',\n",
       " 'how can i see a psychiatrist',\n",
       " 'how can i see a psychologist',\n",
       " 'how can i see a counsellor',\n",
       " 'how can i find a support group',\n",
       " 'where can i find child and youth mental health service',\n",
       " 'where can older adult find help for mental health concern',\n",
       " 'where can i find material for depression',\n",
       " 'where can i find material for anxiety',\n",
       " 'i m having a hard time coping with a physical health problem where can i find help',\n",
       " 'when is substance use a problem where can i go for help',\n",
       " 'where can i find free or counselling',\n",
       " 'can i get help paying for prescription medication',\n",
       " 'how can i pay for mental health care',\n",
       " 'how do i apply for income assistance',\n",
       " 'what is msp',\n",
       " 'what is a referral',\n",
       " 'what the difference between a psychiatrist and a registered psychologist',\n",
       " 'what the difference between psychotherapy and counselling',\n",
       " 'what the difference between cbt and dbt',\n",
       " 'what the difference between antidepressant',\n",
       " 'i received a diagnosis but i don t think it s right what can i do',\n",
       " 'i wa prescribed an antidepressant or other psychiatric medication but i don t think it s working what can i do',\n",
       " 'an adult in my life seems ill and won t find help what can i do',\n",
       " 'i m worried about my child or teenager where can i find help',\n",
       " 'someone i care about ha a brain injury where can i find more information',\n",
       " 'someone i love ha been diagnosed with depression how can i help',\n",
       " 'someone i love ha been diagnosed with schizophrenia how can i help',\n",
       " 'i m a young person and one of my parent ha a mental illness what can i do',\n",
       " 'i have thought of suicide or someone i care about is talking about suicide what should i do',\n",
       " 'cannabis is legally allowed to but there are doctor group saying it s potentially harmful to age 25 any use or certain use what s myth and what s fact if i m a parent what should i tell my young adult',\n",
       " 'what the difference between mental health and mental illness',\n",
       " 'where can i find more information about depression',\n",
       " 'what s the difference between anxiety and an anxiety disorder',\n",
       " 'what the difference between anxiety and stress',\n",
       " 'what the difference between sadness and depression',\n",
       " 'what is dysthymia or persistent depressive disorder',\n",
       " 'what is cyclothymic disorder',\n",
       " 'what doe rapid cycling mean',\n",
       " 'where can i find information and help for borderline personality disorder',\n",
       " 'what is schizoid personality disorder',\n",
       " 'what is antisocial personality disorder',\n",
       " 'what is personality disorder',\n",
       " 'what is disorder',\n",
       " 'what s the difference between dissociative identity disorder multiple personality disorder and schizophrenia',\n",
       " 'what the difference between psychosis and schizophrenia',\n",
       " 'what are positive and negative symptom',\n",
       " 'what is a prodrome',\n",
       " 'i m an adult and i think i might have adhd what can i do next',\n",
       " 'what s the difference between substance use and addiction',\n",
       " 'how can i find help for an alcohol or drug use problem',\n",
       " 'how do i know if i drinking too much',\n",
       " 'if cannabis is dangerous why are we legalizing it',\n",
       " 'how can i convince my kid not to use drug',\n",
       " 'what is the legal status and evidence of cbd oil',\n",
       " 'what is the evidence on vaping']"
      ]
     },
     "execution_count": 7,
     "metadata": {},
     "output_type": "execute_result"
    }
   ],
   "source": [
    "y = data['tokenized Questions'].to_list()\n",
    "y"
   ]
  },
  {
   "cell_type": "code",
   "execution_count": 8,
   "metadata": {},
   "outputs": [],
   "source": [
    "tfidf_vectorizer = TfidfVectorizer()\n",
    "corpus = tfidf_vectorizer.fit_transform(y)"
   ]
  },
  {
   "cell_type": "code",
   "execution_count": 9,
   "metadata": {},
   "outputs": [
    {
     "data": {
      "text/plain": [
       "'tell me about drugs'"
      ]
     },
     "execution_count": 9,
     "metadata": {},
     "output_type": "execute_result"
    }
   ],
   "source": [
    "user = input('Please ask your question: ')\n",
    "user"
   ]
  },
  {
   "cell_type": "code",
   "execution_count": 12,
   "metadata": {},
   "outputs": [
    {
     "data": {
      "text/plain": [
       "'tell me about drug'"
      ]
     },
     "execution_count": 12,
     "metadata": {},
     "output_type": "execute_result"
    }
   ],
   "source": [
    "preprocessed_user = preprocess_text(user)\n",
    "preprocessed_user"
   ]
  },
  {
   "cell_type": "code",
   "execution_count": 13,
   "metadata": {},
   "outputs": [
    {
     "name": "stdout",
     "output_type": "stream",
     "text": [
      "  (0, 206)\t0.5181515985764668\n",
      "  (0, 125)\t0.5648750591870182\n",
      "  (0, 74)\t0.5181515985764668\n",
      "  (0, 1)\t0.37941271630477386\n"
     ]
    }
   ],
   "source": [
    "vector_user = tfidf_vectorizer.transform([preprocessed_user])\n",
    "print(vector_user)"
   ]
  },
  {
   "cell_type": "code",
   "execution_count": 14,
   "metadata": {},
   "outputs": [
    {
     "data": {
      "text/plain": [
       "array([[0.        , 0.        , 0.        , 0.        , 0.        ,\n",
       "        0.        , 0.        , 0.        , 0.        , 0.        ,\n",
       "        0.        , 0.        , 0.        , 0.        , 0.        ,\n",
       "        0.        , 0.        , 0.12526852, 0.        , 0.        ,\n",
       "        0.        , 0.        , 0.11697337, 0.09928855, 0.        ,\n",
       "        0.        , 0.        , 0.        , 0.        , 0.13016531,\n",
       "        0.        , 0.11476618, 0.22974659, 0.        , 0.21097123,\n",
       "        0.        , 0.        , 0.        , 0.        , 0.        ,\n",
       "        0.        , 0.        , 0.        , 0.        , 0.        ,\n",
       "        0.        , 0.        , 0.        , 0.        , 0.        ,\n",
       "        0.        , 0.        , 0.        , 0.        , 0.        ,\n",
       "        0.        , 0.        , 0.        , 0.        , 0.        ,\n",
       "        0.        , 0.        , 0.        , 0.        , 0.        ,\n",
       "        0.        , 0.11798986, 0.10328864, 0.        , 0.        ,\n",
       "        0.        , 0.14955221, 0.09262957, 0.        , 0.14884741,\n",
       "        0.        , 0.        , 0.        , 0.        , 0.        ,\n",
       "        0.        , 0.        , 0.        , 0.        , 0.        ,\n",
       "        0.        , 0.        , 0.        , 0.        , 0.        ,\n",
       "        0.        , 0.        , 0.20724925, 0.        , 0.        ,\n",
       "        0.20192567, 0.        , 0.        ]])"
      ]
     },
     "execution_count": 14,
     "metadata": {},
     "output_type": "execute_result"
    }
   ],
   "source": [
    "similarity_scores = cosine_similarity(vector_user, corpus)\n",
    "similarity_scores"
   ]
  },
  {
   "cell_type": "code",
   "execution_count": 15,
   "metadata": {},
   "outputs": [
    {
     "data": {
      "text/plain": [
       "32"
      ]
     },
     "execution_count": 15,
     "metadata": {},
     "output_type": "execute_result"
    }
   ],
   "source": [
    "most_similar_index = similarity_scores.argmax()\n",
    "most_similar_index"
   ]
  },
  {
   "cell_type": "code",
   "execution_count": 18,
   "metadata": {},
   "outputs": [
    {
     "data": {
      "text/plain": [
       "\"Some people may advise you on good evidence of what works with the best of intentions, but it's important to find out what works best for you.\""
      ]
     },
     "execution_count": 18,
     "metadata": {},
     "output_type": "execute_result"
    }
   ],
   "source": [
    "data['Answers'].iloc[most_similar_index]"
   ]
  },
  {
   "cell_type": "code",
   "execution_count": 20,
   "metadata": {},
   "outputs": [
    {
     "name": "stdout",
     "output_type": "stream",
     "text": [
      "\n",
      "Chatbot: Sorting out if you are drinking too much can be complicated. You are unique and your relationship with alcohol is unique. No one has the same combination of life experiences and influences that you do. So even though you and your friend may choose to drink, how and why you use alcohol may be different. \n",
      " Those of us who drink, seek benefits from alcohol, not difficulties. But sometimes we start using more, and more often, than makes sense. As a general rule, drinking alcohol becomes a problem when it negatively affects our life or the lives of others. Many people imagine this refers to people who consume alcohol “all day every day.” But even drinking too much on a single occasion can lead to a problem, for instance making a poor decision such as driving while impaired. \n",
      " What’s also important to recognize is the potential for negative consequences related to drinking in various contexts (i.e., places, times and activities) and over time (e.g., coping with chronic problems). You can get personalized feedback related to your pattern of drinking as compared to Canada’s Low-Risk Alcohol Drinking Guidelines via the Alcohol Reality Check screening app. This short, simple screen can be used by people of all ages. \n",
      " All alcohol use involves some risk. The reasons people use alcohol can influence their risk of developing problems. For instance, if a person uses alcohol to enhance special celebrations, only occasional social use may follow. But when a person drinks to cope with a long-term problem such as social anxiety, then more long lasting and intense use may follow. \n",
      " By reflecting on your pattern of drinking you can manage your risk for immediate injury or death, your chances for long-term health consequences such as cancer or heart disease, and your risk of developing habitual patterns of drinking that may lead to these harms. \n",
      " Whenever you decide to drink alcohol, it is helpful to know what steps you can take to ensure that your drinking behaviour is the most rewarding and least harmful possible. The following are some useful guidelines to consider. \n",
      " Not too much. Managing how much you drink on a given occasion helps decrease risky behaviours. \n",
      " Tip: Drink slowly and alternate between non-alcoholic and alcoholic beverages. \n",
      " Not too often. Drinking in moderation helps to reduce harms to ourselves and others over time. \n",
      " Tip: Keep less alcohol at home and set limits on how much you are going to drink each week, avoiding drinking on some days. \n",
      " Only in safe contexts. Making informed decisions about where you drink helps to minimize alcohol-related harm. \n",
      " Tip: If going to a bar, stay with a group and choose an establishment that is well lit and near safe transportation options. \n",
      " For information on treatment options and resources throughout BC, call the Alcohol and Drug Information Referral Service at 1-800-663-1441. In Greater Vancouver, call 604-660-9382. \n",
      " To better understand how substances play a role in your life, visit the You and Substance Use workbook on the HeretoHelp website. \n",
      " The Canadian Institute for Substance Use Research, formerly CARBC, is a member of the BC Partners for Mental Health and Addictions Information. The institute is dedicated to the study of substance use in support of community-wide efforts aimed at providing all people with access to healthier lives, whether using substances or not. For more, visit www.cisur.ca.\n",
      "\n",
      "Chatbot: Bye... See you later!\n"
     ]
    }
   ],
   "source": [
    "def get_response(user_input):\n",
    "    user_input_processed = preprocess_text(user_input) \n",
    "    user_input_vector = tfidf_vectorizer.transform([user_input_processed])\n",
    "    similarity_scores = cosine_similarity(user_input_vector, corpus)\n",
    "    most_similar_index = similarity_scores.argmax() \n",
    "    return data['Answers'].iloc[most_similar_index] \n",
    "\n",
    "greetings = [\"Hi human! How are you doing today\",\n",
    "            \"Hello.... How can I help\",\n",
    "            'Twale baba nla, wetin dey happen nah',\n",
    "            'How far Alaye, wetin happen'\n",
    "            \"Good Day .... How can I help\", \n",
    "            \"Hello There... How can I be useful to you today\",\n",
    "            \"Hi beautiful/handsome.... How can I be of use\"]\n",
    "exits = ['thanks bye', 'bye', 'quit', 'exit', 'bye bye', 'close']\n",
    "farewell = ['Thanks....see you soon', 'Babye, See you soon', 'Bye... See you later', 'take care', 'Enjoy', 'Bye... come back soon']\n",
    "\n",
    "random_farewell = random.choice(farewell) \n",
    "random_greetings = random.choice(greetings) \n",
    "\n",
    "while True:\n",
    "    user_input = input(\"You: \")\n",
    "    if user_input.lower() in exits:\n",
    "        print(f\"\\nChatbot: {random_farewell}!\")\n",
    "        break\n",
    "    if user_input.lower() in ['hi', 'hello', 'hey', 'hi there']:\n",
    "        print(f\"\\nChatbot: {random_greetings}!\")\n",
    "    else:   \n",
    "        response = get_response(user_input)\n",
    "        print(f\"\\nChatbot: {response}\")"
   ]
  }
 ],
 "metadata": {
  "kernelspec": {
   "display_name": "Python 3",
   "language": "python",
   "name": "python3"
  },
  "language_info": {
   "codemirror_mode": {
    "name": "ipython",
    "version": 3
   },
   "file_extension": ".py",
   "mimetype": "text/x-python",
   "name": "python",
   "nbconvert_exporter": "python",
   "pygments_lexer": "ipython3",
   "version": "3.11.7"
  }
 },
 "nbformat": 4,
 "nbformat_minor": 2
}
